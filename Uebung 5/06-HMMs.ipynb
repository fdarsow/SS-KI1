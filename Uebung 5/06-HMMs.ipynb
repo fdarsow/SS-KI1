{
 "cells": [
  {
   "cell_type": "markdown",
   "metadata": {},
   "source": [
    "# Satz von Bayes und Hidden Markov Models\n",
    "## 1. Satz von Bayes\n",
    "\n",
    "Bob möchte gerne wissen, ob es regnet. Dazu schaut er aus dem Fenster, ob die Straße nass ist. Wenn es tatsächlich regnet, ist die Straße mit einer Wahrscheinlichkeit von 95 % nass (in 5 % der Fälle regnet es noch nicht lange genug, damit die Straße für Bob nass aussieht). Wenn es nicht regnet, ist die Straße mit einer Wahrscheinlichkeit von 25 % nass (weil der Nachbar von Bob den Rasensprenger laufen lässt, der auch die Straße trifft). Darüber hinaus weiß Bob, dass es an 40 % aller Tage regnet. Benutzen Sie für die folgenden Aufgaben die folgende Notation:\n",
    "\n",
    "* $r$: Es regnet.\n",
    "* $\\bar{r}$: Es regnet nicht.\n",
    "* $n$: Die Straße ist nass.\n",
    "\n",
    "Berechnen Sie die folgenden Wahrscheinlichkeiten:\n",
    "* $p(r) = 0,4$\n",
    "* $p(\\bar{r}) = 0,6$\n",
    "* $p(n|r) = 0,95$\n",
    "* $p(n|\\bar{r}) = 0,25$\n",
    "* $p(r|n) = \\frac{p(n|r) \\cdot f(r)}{p(n|r)\\cdot p(r) + p(n| \\bar{r}) \\cdot p(\\bar{r})}$ unten ist ein Normalisierungsterm, da Warhscheinlichkeit sich von oben zu eins aufaddieren muss $= \\frac{0,95 \\cdot 0,4}{0,95\\cdot 0,4 + 0,25 \\cdot 0,6} = 0,72$\n",
    "* $p(s|o) = \\frac{p(o|s) \\cdot f(s)}{p(o)}$ wissen was die Namen sind: $\\frac {likelihood\\: \\cdot\\: prior}{evidence}$ \n",
    "* getz der Totalen Wahrscheinlihkeit: "
   ]
  },
  {
   "cell_type": "markdown",
   "metadata": {
    "tags": []
   },
   "source": [
    "## 2. Hidden-Markov-Modelle\n",
    "\n",
    "- wichtig\n",
    "- ergebnisse vom Vortag auf das Neuere Ergebnis übertragen\n",
    "\n",
    "Für eine Smartwatch soll ein System entwickelt werden, das automatisch erkennt, ob der\n",
    "Träger gerade schläft. Die Smartwatch enthält einen Beschleunigungssensor, der entwe-\n",
    "der den Wert wenig Bewegung“ oder den Wert viel Bewegung“ zurückliefert. Wenn der\n",
    "Träger schläft, ist die Wahrscheinlichkeit für viel Bewegung“ 5 % und die Wahrscheinlichkeit für wenig Bewegung“ 95 %. Wenn der Träger wach ist, ist die Wahrscheinlichkeit\n",
    "für viel Bewegung“ 60 % und die Wahrscheinlichkeit für wenig Bewegung“ 40 %. Wenn\n",
    "der Träger schläft, ist die Wahrscheinlichkeit, dass er im nächsten Zeitschritt wach ist,\n",
    "30 %. Wenn der Träger wach ist, ist die Wahrscheinlichkeit, dass er im nächsten Schritt\n",
    "schläft, 20 %. Zu Anfang schläft der Träger mit einer Wahrscheinlichkeit von 50 %.\n",
    "\n",
    "1. Spezifizieren Sie diesen Prozess als HMM, wobei der Zustand beschreibt, ob die Person schläft oder wach ist. Notieren Sie die Initialzustand und das Beobachtungsmodell.   \n",
    "\n",
    "**Initialwahrscheinlichkeiten**\n",
    "|S|W|\n",
    "|---|---|\n",
    "|$0,5$|$0,5$|\n",
    "$=p(S_0)$\n",
    "\n",
    "\n",
    "Welche Verteilung gibt uns das Trasitionsmodell an?\n",
    "\n",
    "T=\n",
    "| |S|W|\n",
    "|---|---|---|\n",
    "|**S**|0,7|0,2|\n",
    "|**W**|0,3|0,8|\n",
    "\n",
    "$=p(S_i\\mid s_{i-1})$\n",
    "\n",
    "-> Jede Spalte modelliert eine Warscheinlichkeitsverteilung\n",
    "O =\n",
    "| |S|W|\n",
    "|---|---|---|\n",
    "|**wB**|0,95|0,4|\n",
    "|**vB**|0,05|0,6|\n",
    "\n",
    "$=p(o_i\\mid s_i)$\n",
    "\n",
    "![visuelle Darstellung des Markhoff prozesses](image.png)\n",
    "\n",
    "2. Berechnen Sie, ausgehend von der initialen Wahrscheinlichkeitsverteilung über den Zuständen, ...   \n",
    "   a) die Vorhersage, d.h., Wahrscheinlichkeitsverteilung allein auf Basis des Transitionsmodelles!   \n",
    "      1. $p(s_1) = \\begin{array} {c c} p(s_1|s_0) * p(s_0) + \\\\ p(s_1|w_0) * p(w_0) \\end{array}$\n",
    "      2. $p(z_1) = T * s = \\left(\\begin{array}{c} 0,45 \\\\ 0,55\\end{array}\\right)$\n",
    "      3. $p(Z_1\\mid wB) = \\frac{O_{[wB,]} * Z_1}{||O_{[wB,]}z_1||} = \\left[\\begin{array}{c} 0,66 \\\\ 0,34 \\end{array}\\right]$\n",
    "      4. $p(s_1 | wB) = \\frac{p(wB\\mid s_1 * p(s_1))}{p(wB\\mid s_1) * p(s_1) + p(wB\\mid w_1)*p(w_1)}$ \n",
    "\n",
    "   b) die Korrektur nach der Beobachtung wenig Bewegung“!   \n"
   ]
  },
  {
   "cell_type": "markdown",
   "metadata": {},
   "source": [
    ")\n",
    "\n",
    "   b) die Korrektur nach der Beobachtung wenig Bewegung“!   \n"
   ]
  },
  {
   "cell_type": "markdown",
   "metadata": {},
   "source": [
    "## 2. Implementierung\n",
    "\n",
    "### Aufgabe 1 \n",
    "Implementieren Sie zunächst für das oben beschriebene HMM das die Modelle für Transition und Observation, wie den Initalzustand des Systems! "
   ]
  },
  {
   "cell_type": "code",
   "execution_count": 1,
   "metadata": {
    "ExecuteTime": {
     "end_time": "2023-06-30T12:08:16.955975Z",
     "start_time": "2023-06-30T12:08:16.886967Z"
    },
    "tags": []
   },
   "outputs": [],
   "source": [
    "import numpy as np"
   ]
  },
  {
   "cell_type": "code",
   "execution_count": 2,
   "metadata": {
    "ExecuteTime": {
     "end_time": "2023-06-30T12:11:04.708235Z",
     "start_time": "2023-06-30T12:11:04.686898Z"
    }
   },
   "outputs": [],
   "source": [
    "#transition model\n",
    "T = np.matrix([[0.8,0.2], [0.3,0.7]]).T\n",
    "#prior\n",
    "s0 = np.matrix([0.5,0.5]).T\n",
    "#obs model\n",
    "O = np.matrix([[0.6,0.4],[0.05,0.95]]).T\n",
    "np.array(O[0,])"
   ]
  },
  {
   "cell_type": "code",
   "execution_count": null,
   "metadata": {},
   "outputs": [],
   "source": [
    "array([[0.6, 0.05]])"
   ]
  },
  {
   "cell_type": "markdown",
   "metadata": {},
   "source": [
    "### Aufgabe 2\n",
    "Implementieren Sie eine Funktion `predict(s,T)` die als Parameter eine Prior-Verteilung $p(x_t | y_{1:t})$ als Vektor $s$ und das Transitionsmodell als Matrix `T` bekommt und als Ausgabe die Verteilung $p(x_{t+1} | y_{1:t})$ liefert."
   ]
  },
  {
   "cell_type": "code",
   "execution_count": 3,
   "metadata": {
    "ExecuteTime": {
     "end_time": "2023-06-30T12:35:47.771412Z",
     "start_time": "2023-06-30T12:35:47.754756Z"
    }
   },
   "outputs": [],
   "source": [
    "def predict(s, T):\n",
    "    return np.array(T * s)"
   ]
  },
  {
   "cell_type": "markdown",
   "metadata": {},
   "source": [
    "### Aufgabe 3\n",
    "Implementieren Sie eine Funktion `update(s,O,y)` die als Parameter eine Verteilung $p(x_{t+1} | y_{1:t})$ als Vektor $s$, ein Observationsmodell als Matrix `O` und eine Beobachtung $y_{t+1}$ als Integer `y` bekommt und als Ausgabe $p(x_{t+1} | y_{1:t+1})$ liefert."
   ]
  },
  {
   "cell_type": "code",
   "execution_count": 4,
   "metadata": {
    "ExecuteTime": {
     "end_time": "2023-06-30T12:35:49.078538Z",
     "start_time": "2023-06-30T12:35:49.063814Z"
    }
   },
   "outputs": [],
   "source": [
    "def update(s, O, y):\n",
    "    if y == \"V\":\n",
    "        prow = 0\n",
    "    else:\n",
    "        orow = 1\n",
    "    si = np.array(0[orow,]) * s.T\n",
    "    return (si/np.sum(si)).T\n"
   ]
  },
  {
   "cell_type": "markdown",
   "metadata": {},
   "source": [
    "### Aufgabe 4\n",
    "Implementieren Sie eine Funktion `filter(s0,Y,T,O)` die als Parameter eine Prior-Verteilung $p(x_0)$ als Vektor `s0`, ein Transitions- und Beobachtungsmodell als Matrizen `T` und `O` und eine Sequenz von Beobachtungen $y_{1:T}$ als Vektor `yy` bekommt und für jedes $t = 1,...,T$ die Verteilung $p(x_t | y_{1:t})$ als Vektor berechnet und als Aufgabe somit eine $T \\times 2$-Matrix liefert."
   ]
  },
  {
   "cell_type": "code",
   "execution_count": 5,
   "metadata": {
    "ExecuteTime": {
     "end_time": "2023-06-30T12:35:50.991153Z",
     "start_time": "2023-06-30T12:35:50.974017Z"
    },
    "collapsed": false,
    "jupyter": {
     "outputs_hidden": false
    }
   },
   "outputs": [],
   "source": [
    "def filter(s0, O, T, yy):\n",
    "    s = np.array(s0)\n",
    "    ss = list([s])\n",
    "    for y in yy:\n",
    "            si = predict(s,T)\n",
    "            s = update(si,0,y)\n",
    "            ss.append(s)\n",
    "    return ss\n",
    "\n",
    "\n"
   ]
  },
  {
   "cell_type": "markdown",
   "metadata": {},
   "source": [
    "Testen Sie nun ihre Implementierung mit dem untenstehenden Code."
   ]
  },
  {
   "cell_type": "code",
   "execution_count": 6,
   "metadata": {
    "ExecuteTime": {
     "end_time": "2023-06-30T12:37:11.902249Z",
     "start_time": "2023-06-30T12:37:11.880352Z"
    },
    "collapsed": false,
    "jupyter": {
     "outputs_hidden": false
    }
   },
   "outputs": [
    {
     "data": {
      "text/plain": [
       "[array([[0.5],\n",
       "        [0.5]]),\n",
       " array([[0.33976834],\n",
       "        [0.66023166]]),\n",
       " array([[0.2717807],\n",
       "        [0.7282193]]),\n",
       " array([[0.90265233],\n",
       "        [0.09734767]])]"
      ]
     },
     "execution_count": 6,
     "metadata": {},
     "output_type": "execute_result"
    }
   ],
   "source": [
    "yy = [\"W\",\"W\",\"V\"]\n",
    "ss = filter(s0,O,T,yy)\n",
    "ss"
   ]
  },
  {
   "cell_type": "code",
   "execution_count": null,
   "metadata": {
    "collapsed": false,
    "jupyter": {
     "outputs_hidden": false
    }
   },
   "outputs": [],
   "source": []
  },
  {
   "cell_type": "markdown",
   "metadata": {},
   "source": [
    "# Mitnehmen\n",
    "\n",
    "- satz von base\n",
    "- markhoffhidden modelle\n",
    "- einzelnen wahrscheinlichkeiten können wir auch so ausrechnen\n"
   ]
  }
 ],
 "metadata": {
  "kernelspec": {
   "display_name": "Python 3 (ipykernel)",
   "language": "python",
   "name": "python3"
  },
  "language_info": {
   "codemirror_mode": {
    "name": "ipython",
    "version": 3
   },
   "file_extension": ".py",
   "mimetype": "text/x-python",
   "name": "python",
   "nbconvert_exporter": "python",
   "pygments_lexer": "ipython3",
   "version": "3.11.4"
  }
 },
 "nbformat": 4,
 "nbformat_minor": 4
}
